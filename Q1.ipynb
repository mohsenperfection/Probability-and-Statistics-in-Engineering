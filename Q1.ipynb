{
 "cells": [
  {
   "cell_type": "code",
   "execution_count": 2,
   "id": "fda20ed9",
   "metadata": {},
   "outputs": [
    {
     "name": "stdout",
     "output_type": "stream",
     "text": [
      "100.40675771523023\n",
      "variance =  65700.19403933466\n",
      "11.321836347494518\n",
      "variance =  4409.636335185631\n"
     ]
    }
   ],
   "source": [
    "#!/usr/bin/env python\n",
    "# coding: utf-8\n",
    "\n",
    "# In[7]:\n",
    "\n",
    "\n",
    "from scipy.stats import cauchy\n",
    "from scipy.stats import pareto\n",
    "\n",
    "def CauchySampling(x0,lmbda,size):\n",
    "    Samples = [0]*size\n",
    "    Samples = cauchy.rvs(loc=x0,scale=lmbda,size=size)\n",
    "    mean=sum(Samples)/size\n",
    "    return mean\n",
    "\n",
    "print(CauchySampling(100,10,100))\n",
    "\n",
    "CSSamples=[0]*1000\n",
    "CSSamples=[CauchySampling(100,10,100) for _ in range(1000)]\n",
    "\n",
    "var=0 \n",
    "meanCSS=sum(CSSamples)/1000\n",
    "for i in range(1000):\n",
    "    var+=(CSSamples[i]-meanCSS)**2\n",
    "    \n",
    "var=var/1000    \n",
    "\n",
    "print(\"variance = \",var)\n",
    "\n",
    "\n",
    "# In[11]:\n",
    "\n",
    "\n",
    "def ParetoSampling(xm,alpha,size):\n",
    "    Samples = [0]*size\n",
    "    Samples = pareto.rvs(xm,alpha,size=size)\n",
    "    mean=sum(Samples)/size\n",
    "    return mean\n",
    "\n",
    "print(ParetoSampling(1,0.5,100))\n",
    "\n",
    "CSSamples=[0]*1000\n",
    "CSSamples=[ParetoSampling(1,0.5,100) for _ in range(1000)]\n",
    "\n",
    "var=0 \n",
    "meanCSS=sum(CSSamples)/1000\n",
    "for i in range(1000):\n",
    "    var+=(CSSamples[i]-meanCSS)**2\n",
    "    \n",
    "var=var/1000    \n",
    "\n",
    "print(\"variance = \",var)\n",
    "\n"
   ]
  },
  {
   "cell_type": "code",
   "execution_count": null,
   "id": "c249cfe8",
   "metadata": {},
   "outputs": [],
   "source": []
  }
 ],
 "metadata": {
  "kernelspec": {
   "display_name": "Python 3 (ipykernel)",
   "language": "python",
   "name": "python3"
  },
  "language_info": {
   "codemirror_mode": {
    "name": "ipython",
    "version": 3
   },
   "file_extension": ".py",
   "mimetype": "text/x-python",
   "name": "python",
   "nbconvert_exporter": "python",
   "pygments_lexer": "ipython3",
   "version": "3.9.7"
  }
 },
 "nbformat": 4,
 "nbformat_minor": 5
}

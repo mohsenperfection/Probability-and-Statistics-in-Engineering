{
 "cells": [
  {
   "cell_type": "code",
   "execution_count": 153,
   "id": "81beeed5",
   "metadata": {},
   "outputs": [
    {
     "name": "stdout",
     "output_type": "stream",
     "text": [
      "3.1910650179497413 :تقریب عدد پی   \n"
     ]
    }
   ],
   "source": [
    "import numpy as np\n",
    "import math\n",
    "from math import pi as p\n",
    "L=5 #فاصله خطوط    \n",
    "l=1 #طول سوزن\n",
    "s=0 #\n",
    "for z in range(100000): # انجام ۱۰۰۰۰ آزمایش\n",
    "    x= np.random.uniform(0,2.5) # یک عدد رندوم بین ۰ و ۲/۵\n",
    "    theta= np.random.uniform(0,p) # یک زاویه رندم بین ۰ تا ۱۸۰\n",
    "    if x-(0.5*math.sin(theta))< 0 : # شرط قطع کردن خطوط\n",
    "        s=s+1\n",
    "pi=2/(5*(s/100000))\n",
    "print(pi,\":تقریب عدد پی   \")"
   ]
  },
  {
   "cell_type": "code",
   "execution_count": 149,
   "id": "511d95b1",
   "metadata": {},
   "outputs": [
    {
     "name": "stdout",
     "output_type": "stream",
     "text": [
      "0.926 :احتمال رخ دادن دزدی و روشن شدن زنگ\n",
      "0.010444444444444444 :احتمال رخ ندادن دزدی و روشن شدن زنگ\n",
      "0.9364444444444445 : روشن شدن زنگ\n"
     ]
    }
   ],
   "source": [
    "import numpy as np\n",
    "bp=0 # رخ دادن دزدی\n",
    "ap_bp=0 # رخ دادن دزدی و روشن شدن زنگ\n",
    "an_bp=0 # رخ دادن دزدی و روشن نشدن زنگ\n",
    "bn=0 # رخ ندادن دزدی\n",
    "ap_bn=0 # رخ ندادن دزدی و روشن شدن زنگ\n",
    "an_bn=0 # رخ ندادن دزدی و روشن نشدن زنگ\n",
    "for z in range(100000) : # انجام دادن ۱۰۰۰۰۰ آزمایش\n",
    "    burglary = np.random.randint(0,1000) # تولید یک عدد رندوم بین ۰ و ۱۰۰۰\n",
    "    alarm = np.random.randint(0,1000) # تولید یک عدد رندوم بین ۰ و ۱۰۰۰\n",
    "    if   burglary < 10:\n",
    "        bp= bp + 1\n",
    "        if  alarm > 60 :\n",
    "            ap_bp=ap_bp+1\n",
    "        else :\n",
    "            an_bp=an_bp+1\n",
    "    else :\n",
    "        bn=bn+1\n",
    "        if alarm<10:\n",
    "            ap_bn=ap_bn+1\n",
    "        else:\n",
    "            an_bn=an_bn+1\n",
    "p_bp= bp / 100000 # احتمال رخ دادن دزدی\n",
    "p_bp_ap= ap_bp / 1000 # احتمال رخ دادن دزدی و روشن شدن زنگ\n",
    "p_bp_an= an_bp / 1000 # احتمال رخ دادن دزدی و روشن نشدن زنگ\n",
    "p_bn= bn / 100000 # احتمال رخ ندادن دزدی\n",
    "p_bn_ap=  ap_bn / 99000 # احتمال رخ ندادن دزدی و روشن شدن زنگ\n",
    "p_bn_an=  an_bn / 99000 #احتمال رخ ندادن دزدی و روشن نشدن زنگ\n",
    "p_ap = p_bp_ap + p_bn_ap # احتمال روشن شدن زنگ\n",
    "p_an = p_bp_an + p_bn_an # احتمال روشن نشدن زنگ\n",
    "print(p_bp_ap,\":احتمال رخ دادن دزدی و روشن شدن زنگ\")\n",
    "print(p_bn_ap,\":احتمال رخ ندادن دزدی و روشن شدن زنگ\")\n",
    "print(p_ap,\": روشن شدن زنگ\")"
   ]
  },
  {
   "cell_type": "code",
   "execution_count": 154,
   "id": "34f5c079",
   "metadata": {},
   "outputs": [
    {
     "ename": "KeyboardInterrupt",
     "evalue": "",
     "output_type": "error",
     "traceback": [
      "\u001b[0;31m---------------------------------------------------------------------------\u001b[0m",
      "\u001b[0;31mKeyboardInterrupt\u001b[0m                         Traceback (most recent call last)",
      "\u001b[0;32m/var/folders/65/bf82v36x7pb1bp3trrt6lssr0000gn/T/ipykernel_27983/3285361017.py\u001b[0m in \u001b[0;36m<module>\u001b[0;34m\u001b[0m\n\u001b[1;32m     34\u001b[0m         \u001b[0mMC_Avg\u001b[0m\u001b[0;34m.\u001b[0m\u001b[0mappend\u001b[0m\u001b[0;34m(\u001b[0m\u001b[0ms\u001b[0m\u001b[0;34m/\u001b[0m\u001b[0mi\u001b[0m\u001b[0;34m)\u001b[0m\u001b[0;34m\u001b[0m\u001b[0;34m\u001b[0m\u001b[0m\n\u001b[1;32m     35\u001b[0m     \u001b[0;32mreturn\u001b[0m\u001b[0;34m(\u001b[0m\u001b[0mMC_Avg\u001b[0m\u001b[0;34m)\u001b[0m\u001b[0;34m\u001b[0m\u001b[0;34m\u001b[0m\u001b[0m\n\u001b[0;32m---> 36\u001b[0;31m \u001b[0mMC_Avg\u001b[0m \u001b[0;34m=\u001b[0m \u001b[0maverage\u001b[0m\u001b[0;34m(\u001b[0m\u001b[0mn\u001b[0m\u001b[0;34m(\u001b[0m\u001b[0;34m)\u001b[0m\u001b[0;34m)\u001b[0m\u001b[0;34m\u001b[0m\u001b[0;34m\u001b[0m\u001b[0m\n\u001b[0m\u001b[1;32m     37\u001b[0m \u001b[0mplt\u001b[0m\u001b[0;34m.\u001b[0m\u001b[0mplot\u001b[0m\u001b[0;34m(\u001b[0m\u001b[0mrange\u001b[0m\u001b[0;34m(\u001b[0m\u001b[0;36m3\u001b[0m\u001b[0;34m,\u001b[0m\u001b[0;36m1501\u001b[0m\u001b[0;34m)\u001b[0m\u001b[0;34m,\u001b[0m\u001b[0mMC_Avg\u001b[0m\u001b[0;34m)\u001b[0m \u001b[0;31m# رسم نمودار\u001b[0m\u001b[0;34m\u001b[0m\u001b[0;34m\u001b[0m\u001b[0m\n\u001b[1;32m     38\u001b[0m \u001b[0mplt\u001b[0m\u001b[0;34m.\u001b[0m\u001b[0mshow\u001b[0m\u001b[0;34m(\u001b[0m\u001b[0;34m)\u001b[0m\u001b[0;34m\u001b[0m\u001b[0;34m\u001b[0m\u001b[0m\n",
      "\u001b[0;32m/var/folders/65/bf82v36x7pb1bp3trrt6lssr0000gn/T/ipykernel_27983/3285361017.py\u001b[0m in \u001b[0;36mn\u001b[0;34m()\u001b[0m\n\u001b[1;32m     22\u001b[0m     \u001b[0mMC_Result\u001b[0m\u001b[0;34m=\u001b[0m\u001b[0;34m[\u001b[0m\u001b[0;34m]\u001b[0m\u001b[0;34m\u001b[0m\u001b[0;34m\u001b[0m\u001b[0m\n\u001b[1;32m     23\u001b[0m     \u001b[0;32mfor\u001b[0m \u001b[0mn\u001b[0m \u001b[0;32min\u001b[0m \u001b[0mrange\u001b[0m\u001b[0;34m(\u001b[0m\u001b[0;36m3\u001b[0m\u001b[0;34m,\u001b[0m\u001b[0;36m1501\u001b[0m\u001b[0;34m)\u001b[0m\u001b[0;34m:\u001b[0m\u001b[0;34m\u001b[0m\u001b[0;34m\u001b[0m\u001b[0m\n\u001b[0;32m---> 24\u001b[0;31m         \u001b[0mMC_Result\u001b[0m\u001b[0;34m.\u001b[0m\u001b[0mappend\u001b[0m\u001b[0;34m(\u001b[0m\u001b[0misCenterphil\u001b[0m\u001b[0;34m(\u001b[0m\u001b[0mn\u001b[0m\u001b[0;34m)\u001b[0m\u001b[0;34m)\u001b[0m\u001b[0;34m\u001b[0m\u001b[0;34m\u001b[0m\u001b[0m\n\u001b[0m\u001b[1;32m     25\u001b[0m     \u001b[0;32mreturn\u001b[0m\u001b[0;34m(\u001b[0m\u001b[0mMC_Result\u001b[0m\u001b[0;34m)\u001b[0m\u001b[0;34m\u001b[0m\u001b[0;34m\u001b[0m\u001b[0m\n\u001b[1;32m     26\u001b[0m \u001b[0;34m\u001b[0m\u001b[0m\n",
      "\u001b[0;32m/var/folders/65/bf82v36x7pb1bp3trrt6lssr0000gn/T/ipykernel_27983/3285361017.py\u001b[0m in \u001b[0;36misCenterphil\u001b[0;34m(n)\u001b[0m\n\u001b[1;32m      8\u001b[0m         \u001b[0mcenterphil_triangle\u001b[0m \u001b[0;34m=\u001b[0m \u001b[0;36m0\u001b[0m\u001b[0;34m\u001b[0m\u001b[0;34m\u001b[0m\u001b[0m\n\u001b[1;32m      9\u001b[0m         \u001b[0;32mfor\u001b[0m \u001b[0mz\u001b[0m \u001b[0;32min\u001b[0m \u001b[0mrange\u001b[0m\u001b[0;34m(\u001b[0m\u001b[0mn\u001b[0m\u001b[0;34m)\u001b[0m\u001b[0;34m:\u001b[0m\u001b[0;34m\u001b[0m\u001b[0;34m\u001b[0m\u001b[0m\n\u001b[0;32m---> 10\u001b[0;31m             \u001b[0mg\u001b[0m\u001b[0;34m=\u001b[0m\u001b[0mnp\u001b[0m\u001b[0;34m.\u001b[0m\u001b[0mrandom\u001b[0m\u001b[0;34m.\u001b[0m\u001b[0mrandint\u001b[0m\u001b[0;34m(\u001b[0m\u001b[0;36m0\u001b[0m\u001b[0;34m,\u001b[0m\u001b[0;36m360\u001b[0m\u001b[0;34m)\u001b[0m\u001b[0;34m\u001b[0m\u001b[0;34m\u001b[0m\u001b[0m\n\u001b[0m\u001b[1;32m     11\u001b[0m             \u001b[0mdots\u001b[0m\u001b[0;34m.\u001b[0m\u001b[0mappend\u001b[0m\u001b[0;34m(\u001b[0m\u001b[0mg\u001b[0m\u001b[0;34m)\u001b[0m\u001b[0;34m\u001b[0m\u001b[0;34m\u001b[0m\u001b[0m\n\u001b[1;32m     12\u001b[0m         \u001b[0mchosen_dots\u001b[0m\u001b[0;34m=\u001b[0m\u001b[0msample\u001b[0m\u001b[0;34m(\u001b[0m\u001b[0mdots\u001b[0m\u001b[0;34m,\u001b[0m\u001b[0;36m3\u001b[0m\u001b[0;34m)\u001b[0m\u001b[0;34m\u001b[0m\u001b[0;34m\u001b[0m\u001b[0m\n",
      "\u001b[0;31mKeyboardInterrupt\u001b[0m: "
     ]
    }
   ],
   "source": [
    "import numpy as np\n",
    "from random import sample\n",
    "from math import pi as p\n",
    "import matplotlib.pyplot as plt\n",
    "def isCenterphil (n) : # آیا درون مثلثی که سه نقطه انتخابی میسازند مرکز دایره وجود دارد؟ \n",
    "    for i in range(10000): # انجام ۱۰۰۰۰ بار آزمایش\n",
    "        dots=[]\n",
    "        centerphil_triangle = 0\n",
    "        for z in range(n):\n",
    "            g=np.random.randint(0,360)\n",
    "            dots.append(g)  \n",
    "        chosen_dots=sample(dots,3)\n",
    "        chosen_dots[1]=((chosen_dots[1]-chosen_dots[0])+360)%360 # ثابت نگه داشتن یک راس و محاسبه زاویه دو راس دیگر نسبت به راس اول به درجه\n",
    "        chosen_dots[2]=((chosen_dots[2]-chosen_dots[0])+360)%360\n",
    "        if 0<chosen_dots[1] & chosen_dots[1]<180 & 180<chosen_dots[2] & chosen_dots[2]<180+chosen_dots[1] : # شروط وجود داشتن مرکز دایره درون مثلث\n",
    "            centerphil_triangle = centerphil_triangle + 1\n",
    "        elif 180<chosen_dots[1] & chosen_dots[1]<360 & chosen_dots[1]-180<chosen_dots[2] & chosen_dots[2]<180 : # شروط وجود داشتن مرکز دایره درون مثلث\n",
    "            centerphil_triangle = centerphil_triangle + 1 \n",
    "    return(centerphil_triangle/10000)\n",
    "\n",
    "def n() :\n",
    "    MC_Result=[]\n",
    "    for n in range(3,1501):\n",
    "        MC_Result.append(isCenterphil(n))\n",
    "    return(MC_Result)\n",
    "\n",
    "def average (MC_Result):\n",
    "    MC_Avg=[]\n",
    "    s=0\n",
    "    for i in range(0,1498):\n",
    "        while i >= 0:\n",
    "            s = s + MC_Result[i]\n",
    "            i = i - 1\n",
    "        MC_Avg.append(s/i)\n",
    "    return(MC_Avg)\n",
    "MC_Avg = average(n())\n",
    "plt.plot(range(3,1501),MC_Avg) # رسم نمودار\n",
    "plt.show()"
   ]
  },
  {
   "cell_type": "code",
   "execution_count": null,
   "id": "58501a5f",
   "metadata": {},
   "outputs": [],
   "source": [
    "دو تا از نقاط را به مرکز وصل می کنیم و می گذرانیم دایره به ۴ قسمت تفسیم می شود که تنها اگر نقطه سوم در تنها یکی از \n",
    "این چهار ناحیه باشد مثلثمان حاوی مرکز دایره است پس احتمال برابر یک چهارم است"
   ]
  },
  {
   "cell_type": "code",
   "execution_count": null,
   "id": "88162cde",
   "metadata": {},
   "outputs": [],
   "source": []
  }
 ],
 "metadata": {
  "kernelspec": {
   "display_name": "Python 3 (ipykernel)",
   "language": "python",
   "name": "python3"
  },
  "language_info": {
   "codemirror_mode": {
    "name": "ipython",
    "version": 3
   },
   "file_extension": ".py",
   "mimetype": "text/x-python",
   "name": "python",
   "nbconvert_exporter": "python",
   "pygments_lexer": "ipython3",
   "version": "3.9.7"
  }
 },
 "nbformat": 4,
 "nbformat_minor": 5
}

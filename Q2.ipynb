{
 "cells": [
  {
   "cell_type": "code",
   "execution_count": 7,
   "id": "31ab13f3",
   "metadata": {},
   "outputs": [
    {
     "name": "stdout",
     "output_type": "stream",
     "text": [
      "10.0294\n",
      "4.967935639999999\n"
     ]
    }
   ],
   "source": [
    "import numpy as np\n",
    "def SampleBinomial(p,n,size):\n",
    "    samples=[0]*size\n",
    "    samples=np.random.binomial(n,p,size)\n",
    "    return samples\n",
    "X =SampleBinomial(0.5,20,10000)\n",
    "meanX= np.mean(X)\n",
    "VarX= np.var(X)\n",
    "print(meanX)\n",
    "print(VarX)"
   ]
  },
  {
   "cell_type": "code",
   "execution_count": 8,
   "id": "7af6465a",
   "metadata": {},
   "outputs": [
    {
     "name": "stdout",
     "output_type": "stream",
     "text": [
      "0.3\n"
     ]
    }
   ],
   "source": [
    "def FindProb(samples,l,u):\n",
    "    X=(sample<=u)*(sample>=l)\n",
    "    return(sum(X)/sample.size) \n",
    "sample=np.arange(1000)\n",
    "print(FindProb(samples,0,299))"
   ]
  },
  {
   "cell_type": "code",
   "execution_count": 9,
   "id": "e2983a4a",
   "metadata": {},
   "outputs": [
    {
     "name": "stdout",
     "output_type": "stream",
     "text": [
      "0.3144533152386512\n"
     ]
    }
   ],
   "source": [
    "import math \n",
    "from scipy.stats import norm\n",
    "def EstProb(p,n,l,u):\n",
    "    mean = p\n",
    "    var = p*(1-p)\n",
    "    x = (l-n*p)/(math.sqrt(n*var))\n",
    "    y = (u-n*p)/(math.sqrt(n*var))\n",
    "    return norm.cdf(y)-norm.cdf(x)\n",
    "print(EstProb(0.5,20,8,10))   "
   ]
  },
  {
   "cell_type": "code",
   "execution_count": 10,
   "id": "5672f462",
   "metadata": {},
   "outputs": [
    {
     "name": "stdout",
     "output_type": "stream",
     "text": [
      "0.45669212447945295\n"
     ]
    }
   ],
   "source": [
    "def CorEstProb(p,n,l,u):\n",
    "    return (EstProb(p,n,l-0.5,u+0.5))\n",
    "print(CorEstProb(0.5,20,8,10))"
   ]
  },
  {
   "cell_type": "code",
   "execution_count": null,
   "id": "9955ec21",
   "metadata": {},
   "outputs": [],
   "source": []
  }
 ],
 "metadata": {
  "kernelspec": {
   "display_name": "Python 3 (ipykernel)",
   "language": "python",
   "name": "python3"
  },
  "language_info": {
   "codemirror_mode": {
    "name": "ipython",
    "version": 3
   },
   "file_extension": ".py",
   "mimetype": "text/x-python",
   "name": "python",
   "nbconvert_exporter": "python",
   "pygments_lexer": "ipython3",
   "version": "3.9.7"
  }
 },
 "nbformat": 4,
 "nbformat_minor": 5
}

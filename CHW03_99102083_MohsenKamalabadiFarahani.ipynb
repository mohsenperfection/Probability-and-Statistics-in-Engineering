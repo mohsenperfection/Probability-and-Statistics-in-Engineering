{
 "cells": [
  {
   "cell_type": "code",
   "execution_count": 14,
   "id": "e881619a",
   "metadata": {},
   "outputs": [
    {
     "data": {
      "image/png": "[encoded data removed]",
      "text/plain": [
       "<Figure size 432x288 with 1 Axes>"
      ]
     },
     "metadata": {
      "needs_background": "light"
     },
     "output_type": "display_data"
    }
   ],
   "source": [
    "import numpy as np\n",
    "import matplotlib.pyplot as plt\n",
    "x = np.random.exponential(0.3, 1000) #تولید آرایه هزار تایی متغیر تصادفی نمایی با لاندی ۰.۳\n",
    "a = 0 # نقطه شروع بازه\n",
    "b = 1 # نقطه پایان بازه\n",
    "maximum= max(x) # گرفتن بزرگ ترین عدد موجود در آرایه X\n",
    "counter= [] # ساختن لیست شمارنده\n",
    "while a < maximum : # بازه تا بزرگ ترین عدد تولید شده ادامه پیدا می کند\n",
    "    for i in range(1000):\n",
    "        if x[i] >= a and x[i] <= b : #اگر متغیر تصادفی بین نقطه شروع و پایان بازه ای بود نقطه شروع بازه را به عنوان نماینده آن بازه به شمارنده اضافه می کنیم \n",
    "            counter.append(a)\n",
    "    a =a + 1 # تولید بازه بعدی\n",
    "    b=b + 1 # تولید بازه بعدی\n",
    "plt.hist(counter,density=True) # کشیدن نمودار هیستوگرام شمارنده\n",
    "plt.xlabel(\"Time\") # نام گذاری محور افقی\n",
    "plt.ylabel(\"Number\") # نام گذاری محور عمودی\n",
    "plt.show()"
   ]
  }
 ],
 "metadata": {
  "kernelspec": {
   "display_name": "Python 3 (ipykernel)",
   "language": "python",
   "name": "python3"
  },
  "language_info": {
   "codemirror_mode": {
    "name": "ipython",
    "version": 3
   },
   "file_extension": ".py",
   "mimetype": "text/x-python",
   "name": "python",
   "nbconvert_exporter": "python",
   "pygments_lexer": "ipython3",
   "version": "3.9.7"
  }
 },
 "nbformat": 4,
 "nbformat_minor": 5
}
